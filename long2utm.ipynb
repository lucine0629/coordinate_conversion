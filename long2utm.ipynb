{
 "cells": [
  {
   "cell_type": "code",
   "execution_count": 142,
   "id": "2a884cdc",
   "metadata": {},
   "outputs": [],
   "source": [
    "### This script converts LONLAT 2 UTM coordinate\n",
    "\n",
    "import utm\n",
    "import os\n",
    "\n",
    "#define file name\n",
    "inpshot = 'p13_s.txt'\n",
    "outshot = 'p13_s1.txt'\n",
    "\n",
    "#Check existence of output file.\n",
    "#If output file exists, remove it.\n",
    "if os.path.isfile(outshot):\n",
    "    os.remove(outshot)\n",
    "\n",
    "#read the file\n",
    "tmp = open(inpshot, \"r\")\n",
    "data = tmp.read().split('\\n')\n",
    "\n",
    "with open(outshot, 'a') as f:\n",
    "    header = \"long, lat, easting, northing, zone_number\"\n",
    "    f.write(header + \"\\n\")\n",
    "    \n",
    "#coordinate conversion\n",
    "for a ,element in enumerate(data):\n",
    "    a1 = data[a].split()\n",
    "    lon = float(a1[0])\n",
    "    lat = float(a1[1])\n",
    "    x,y,zn,zl = utm.from_latlon(lat,lon)\n",
    "    \n",
    "    with open(outshot, 'a') as f:\n",
    "        outp = element+str(',')+str(x)+str(',')+str(y)+str(',')+str(zn)+str(zl)\n",
    "        f.write(\"%s\\n\" % outp)"
   ]
  },
  {
   "cell_type": "code",
   "execution_count": null,
   "id": "6cb3a89e",
   "metadata": {},
   "outputs": [],
   "source": []
  }
 ],
 "metadata": {
  "kernelspec": {
   "display_name": "Python 3 (ipykernel)",
   "language": "python",
   "name": "python3"
  },
  "language_info": {
   "codemirror_mode": {
    "name": "ipython",
    "version": 3
   },
   "file_extension": ".py",
   "mimetype": "text/x-python",
   "name": "python",
   "nbconvert_exporter": "python",
   "pygments_lexer": "ipython3",
   "version": "3.10.4"
  }
 },
 "nbformat": 4,
 "nbformat_minor": 5
}
